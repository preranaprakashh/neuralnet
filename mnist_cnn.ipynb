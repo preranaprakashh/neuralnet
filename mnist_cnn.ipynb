{
  "nbformat": 4,
  "nbformat_minor": 0,
  "metadata": {
    "colab": {
      "name": "mnist_cnn.ipynb",
      "provenance": [],
      "authorship_tag": "ABX9TyPB9Vrdc1/XoR0scdYq4r/C",
      "include_colab_link": true
    },
    "kernelspec": {
      "name": "python3",
      "display_name": "Python 3"
    },
    "language_info": {
      "name": "python"
    }
  },
  "cells": [
    {
      "cell_type": "markdown",
      "metadata": {
        "id": "view-in-github",
        "colab_type": "text"
      },
      "source": [
        "<a href=\"https://colab.research.google.com/github/preranaprakashh/neuralnet/blob/main/mnist_cnn.ipynb\" target=\"_parent\"><img src=\"https://colab.research.google.com/assets/colab-badge.svg\" alt=\"Open In Colab\"/></a>"
      ]
    },
    {
      "cell_type": "code",
      "execution_count": 41,
      "metadata": {
        "id": "m9K-5_cV9gcy"
      },
      "outputs": [],
      "source": [
        "#importing libraries required\n",
        "import tensorflow as tf\n",
        "from tensorflow.keras import datasets, layers, models\n",
        "from tensorflow.keras.models import Sequential\n",
        "from tensorflow.keras.layers import Dense, Conv2D, Dropout, Flatten, MaxPooling2D\n",
        "import matplotlib.pyplot as plt\n",
        "import numpy as np"
      ]
    },
    {
      "cell_type": "code",
      "source": [
        "#loading the dataset\n",
        "(x_train, y_train), (x_test, y_test) = datasets.mnist.load_data()"
      ],
      "metadata": {
        "id": "rqNh-odY9vOP"
      },
      "execution_count": 42,
      "outputs": []
    },
    {
      "cell_type": "code",
      "source": [
        "#printing sizes \n",
        "print('X_train: ' + str(x_train.shape))\n",
        "print('Y_train: ' + str(y_train.shape))\n",
        "print('X_test:  ' + str(x_test.shape))\n",
        "print('Y_test:  ' + str(y_test.shape))"
      ],
      "metadata": {
        "colab": {
          "base_uri": "https://localhost:8080/"
        },
        "id": "bkbYCY60-Wr2",
        "outputId": "242aee8d-8552-454f-90ac-43d38856c384"
      },
      "execution_count": 43,
      "outputs": [
        {
          "output_type": "stream",
          "name": "stdout",
          "text": [
            "X_train: (60000, 28, 28)\n",
            "Y_train: (60000,)\n",
            "X_test:  (10000, 28, 28)\n",
            "Y_test:  (10000,)\n"
          ]
        }
      ]
    },
    {
      "cell_type": "code",
      "source": [
        "#normalization, channels last type\n",
        "x_train = x_train.reshape(x_train.shape[0], 28, 28, 1)\n",
        "x_test = x_test.reshape(x_test.shape[0], 28, 28, 1)\n",
        "input_shape = (28, 28, 1)"
      ],
      "metadata": {
        "id": "-SjIIxY3-eFX"
      },
      "execution_count": 44,
      "outputs": []
    },
    {
      "cell_type": "code",
      "source": [
        "x_train = x_train/255\n",
        "x_test = x_test/255"
      ],
      "metadata": {
        "id": "ZL4RIELT_UFC"
      },
      "execution_count": 45,
      "outputs": []
    },
    {
      "cell_type": "code",
      "source": [
        "print(\"x_train shape\", x_train.shape)\n",
        "print(\"x_test shape\", x_test.shape)"
      ],
      "metadata": {
        "colab": {
          "base_uri": "https://localhost:8080/"
        },
        "id": "LODobAMU_lyi",
        "outputId": "ae189b0e-4337-4904-f4f9-c22c676639a7"
      },
      "execution_count": 46,
      "outputs": [
        {
          "output_type": "stream",
          "name": "stdout",
          "text": [
            "x_train shape (60000, 28, 28, 1)\n",
            "x_test shape (10000, 28, 28, 1)\n"
          ]
        }
      ]
    },
    {
      "cell_type": "code",
      "source": [
        "num_category = 10\n",
        "y_train = tf.keras.utils.to_categorical(y_train, num_category)\n",
        "y_test = tf.keras.utils.to_categorical(y_test, num_category)"
      ],
      "metadata": {
        "id": "ne5HDUck_zet"
      },
      "execution_count": 47,
      "outputs": []
    },
    {
      "cell_type": "code",
      "source": [
        "print(\"y_train shape\", y_train.shape)\n",
        "print(\"y_test shape\", y_test.shape)"
      ],
      "metadata": {
        "colab": {
          "base_uri": "https://localhost:8080/"
        },
        "id": "daV75uCy_-DZ",
        "outputId": "6f3abaed-0aa9-4141-a352-a65d43139c62"
      },
      "execution_count": 48,
      "outputs": [
        {
          "output_type": "stream",
          "name": "stdout",
          "text": [
            "y_train shape (60000, 10)\n",
            "y_test shape (10000, 10)\n"
          ]
        }
      ]
    },
    {
      "cell_type": "code",
      "source": [
        "#CNN implementation\n",
        "model = Sequential()\n",
        "\n",
        "#Layer 1\n",
        "#convolutional layer with relu activation\n",
        "#32 convolution filters used each of size 3x3\n",
        "model.add(Conv2D(filters=32,kernel_size=(3,3),padding = \"Same\",activation = \"relu\",input_shape=input_shape))\n",
        "#Layer 2\n",
        "#convolutional layer with relu activation\n",
        "#64 convolution filters used each of size 3x3\n",
        "model.add(Conv2D(filters=64,kernel_size=(3,3),padding = \"Same\",activation = \"relu\", input_shape=input_shape))\n",
        "\n",
        "#best features chosen using maxpooling\n",
        "model.add(MaxPooling2D(pool_size = (2,2)))\n",
        "\n",
        "#Fully Connected\n",
        "model.add(Dropout(0.2))\n",
        "model.add(Flatten())\n",
        "model.add(Dense(128, activation = \"relu\"))\n",
        "model.add(Dropout(0.5))\n",
        "model.add(Dense(num_category, activation = \"softmax\"))"
      ],
      "metadata": {
        "id": "zQTrIw-XAeWG"
      },
      "execution_count": 53,
      "outputs": []
    },
    {
      "cell_type": "code",
      "source": [
        "#compiling the model\n",
        "model.compile(optimizer='adam', loss='categorical_crossentropy', metrics=['accuracy'])\n",
        "#training the model\n",
        "model.fit(x = x_train,y = y_train, epochs=10)"
      ],
      "metadata": {
        "colab": {
          "base_uri": "https://localhost:8080/"
        },
        "id": "fSen4V_BAi35",
        "outputId": "91542c56-b67e-48aa-aec1-154dc1ba9e78"
      },
      "execution_count": null,
      "outputs": [
        {
          "output_type": "stream",
          "name": "stdout",
          "text": [
            "Epoch 1/10\n",
            "1875/1875 [==============================] - 206s 109ms/step - loss: 0.1905 - accuracy: 0.9433\n",
            "Epoch 2/10\n",
            " 484/1875 [======>.......................] - ETA: 2:32 - loss: 0.0885 - accuracy: 0.9751"
          ]
        }
      ]
    }
  ]
}