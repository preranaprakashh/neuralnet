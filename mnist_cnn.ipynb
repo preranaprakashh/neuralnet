{
  "nbformat": 4,
  "nbformat_minor": 0,
  "metadata": {
    "colab": {
      "name": "mnist_cnn.ipynb",
      "provenance": [],
      "collapsed_sections": [],
      "authorship_tag": "ABX9TyPK2ngryu3C8F82fxYf5bUj",
      "include_colab_link": true
    },
    "kernelspec": {
      "name": "python3",
      "display_name": "Python 3"
    },
    "language_info": {
      "name": "python"
    }
  },
  "cells": [
    {
      "cell_type": "markdown",
      "metadata": {
        "id": "view-in-github",
        "colab_type": "text"
      },
      "source": [
        "<a href=\"https://colab.research.google.com/github/preranaprakashh/neuralnet/blob/main/mnist_cnn.ipynb\" target=\"_parent\"><img src=\"https://colab.research.google.com/assets/colab-badge.svg\" alt=\"Open In Colab\"/></a>"
      ]
    },
    {
      "cell_type": "code",
      "execution_count": 41,
      "metadata": {
        "id": "m9K-5_cV9gcy"
      },
      "outputs": [],
      "source": [
        "#importing libraries required\n",
        "import tensorflow as tf\n",
        "from tensorflow.keras import datasets, layers, models\n",
        "from tensorflow.keras.models import Sequential\n",
        "from tensorflow.keras.layers import Dense, Conv2D, Dropout, Flatten, MaxPooling2D\n",
        "import matplotlib.pyplot as plt\n",
        "import numpy as np"
      ]
    },
    {
      "cell_type": "code",
      "source": [
        "#loading the dataset\n",
        "(x_train, y_train), (x_test, y_test) = datasets.mnist.load_data()"
      ],
      "metadata": {
        "id": "rqNh-odY9vOP"
      },
      "execution_count": 42,
      "outputs": []
    },
    {
      "cell_type": "code",
      "source": [
        "#printing sizes \n",
        "print('X_train: ' + str(x_train.shape))\n",
        "print('Y_train: ' + str(y_train.shape))\n",
        "print('X_test:  ' + str(x_test.shape))\n",
        "print('Y_test:  ' + str(y_test.shape))"
      ],
      "metadata": {
        "colab": {
          "base_uri": "https://localhost:8080/"
        },
        "id": "bkbYCY60-Wr2",
        "outputId": "242aee8d-8552-454f-90ac-43d38856c384"
      },
      "execution_count": 43,
      "outputs": [
        {
          "output_type": "stream",
          "name": "stdout",
          "text": [
            "X_train: (60000, 28, 28)\n",
            "Y_train: (60000,)\n",
            "X_test:  (10000, 28, 28)\n",
            "Y_test:  (10000,)\n"
          ]
        }
      ]
    },
    {
      "cell_type": "code",
      "source": [
        "#normalization, channels last type\n",
        "x_train = x_train.reshape(x_train.shape[0], 28, 28, 1)\n",
        "x_test = x_test.reshape(x_test.shape[0], 28, 28, 1)\n",
        "input_shape = (28, 28, 1)"
      ],
      "metadata": {
        "id": "-SjIIxY3-eFX"
      },
      "execution_count": 44,
      "outputs": []
    },
    {
      "cell_type": "code",
      "source": [
        "x_train = x_train/255\n",
        "x_test = x_test/255"
      ],
      "metadata": {
        "id": "ZL4RIELT_UFC"
      },
      "execution_count": 45,
      "outputs": []
    },
    {
      "cell_type": "code",
      "source": [
        "print(\"x_train shape\", x_train.shape)\n",
        "print(\"x_test shape\", x_test.shape)"
      ],
      "metadata": {
        "colab": {
          "base_uri": "https://localhost:8080/"
        },
        "id": "LODobAMU_lyi",
        "outputId": "ae189b0e-4337-4904-f4f9-c22c676639a7"
      },
      "execution_count": 46,
      "outputs": [
        {
          "output_type": "stream",
          "name": "stdout",
          "text": [
            "x_train shape (60000, 28, 28, 1)\n",
            "x_test shape (10000, 28, 28, 1)\n"
          ]
        }
      ]
    },
    {
      "cell_type": "code",
      "source": [
        "num_category = 10\n",
        "y_train = tf.keras.utils.to_categorical(y_train, num_category)\n",
        "y_test = tf.keras.utils.to_categorical(y_test, num_category)"
      ],
      "metadata": {
        "id": "ne5HDUck_zet"
      },
      "execution_count": 47,
      "outputs": []
    },
    {
      "cell_type": "code",
      "source": [
        "print(\"y_train shape\", y_train.shape)\n",
        "print(\"y_test shape\", y_test.shape)"
      ],
      "metadata": {
        "colab": {
          "base_uri": "https://localhost:8080/"
        },
        "id": "daV75uCy_-DZ",
        "outputId": "6f3abaed-0aa9-4141-a352-a65d43139c62"
      },
      "execution_count": 48,
      "outputs": [
        {
          "output_type": "stream",
          "name": "stdout",
          "text": [
            "y_train shape (60000, 10)\n",
            "y_test shape (10000, 10)\n"
          ]
        }
      ]
    },
    {
      "cell_type": "code",
      "source": [
        "#CNN implementation\n",
        "model = Sequential()\n",
        "\n",
        "#Layer 1\n",
        "#convolutional layer with relu activation\n",
        "#32 convolution filters used each of size 3x3\n",
        "model.add(Conv2D(filters=32,kernel_size=(3,3),padding = \"Same\",activation = \"relu\",input_shape=input_shape))\n",
        "#Layer 2\n",
        "#convolutional layer with relu activation\n",
        "#64 convolution filters used each of size 3x3\n",
        "model.add(Conv2D(filters=64,kernel_size=(3,3),padding = \"Same\",activation = \"relu\", input_shape=input_shape))\n",
        "\n",
        "#best features chosen using maxpooling\n",
        "model.add(MaxPooling2D(pool_size = (2,2)))\n",
        "\n",
        "#Fully Connected\n",
        "model.add(Dropout(0.2))\n",
        "model.add(Flatten())\n",
        "model.add(Dense(128, activation = \"relu\"))\n",
        "model.add(Dropout(0.5))\n",
        "model.add(Dense(num_category, activation = \"softmax\"))"
      ],
      "metadata": {
        "id": "zQTrIw-XAeWG"
      },
      "execution_count": 53,
      "outputs": []
    },
    {
      "cell_type": "code",
      "source": [
        "#compiling the model\n",
        "model.compile(optimizer='adam', loss='categorical_crossentropy', metrics=['accuracy'])\n",
        "#training the model\n",
        "model.fit(x = x_train,y = y_train, epochs=10)"
      ],
      "metadata": {
        "colab": {
          "base_uri": "https://localhost:8080/"
        },
        "id": "fSen4V_BAi35",
        "outputId": "91542c56-b67e-48aa-aec1-154dc1ba9e78"
      },
      "execution_count": 55,
      "outputs": [
        {
          "output_type": "stream",
          "name": "stdout",
          "text": [
            "Epoch 1/10\n",
            "1875/1875 [==============================] - 206s 109ms/step - loss: 0.1905 - accuracy: 0.9433\n",
            "Epoch 2/10\n",
            "1875/1875 [==============================] - 205s 109ms/step - loss: 0.0814 - accuracy: 0.9765\n",
            "Epoch 3/10\n",
            "1875/1875 [==============================] - 204s 109ms/step - loss: 0.0615 - accuracy: 0.9811\n",
            "Epoch 4/10\n",
            "1875/1875 [==============================] - 203s 108ms/step - loss: 0.0480 - accuracy: 0.9848\n",
            "Epoch 5/10\n",
            "1875/1875 [==============================] - 206s 110ms/step - loss: 0.0423 - accuracy: 0.9871\n",
            "Epoch 6/10\n",
            "1875/1875 [==============================] - 208s 111ms/step - loss: 0.0363 - accuracy: 0.9889\n",
            "Epoch 7/10\n",
            "1875/1875 [==============================] - 207s 110ms/step - loss: 0.0319 - accuracy: 0.9896\n",
            "Epoch 8/10\n",
            "1875/1875 [==============================] - 207s 110ms/step - loss: 0.0291 - accuracy: 0.9905\n",
            "Epoch 9/10\n",
            "1875/1875 [==============================] - 209s 111ms/step - loss: 0.0252 - accuracy: 0.9922\n",
            "Epoch 10/10\n",
            "1875/1875 [==============================] - 207s 111ms/step - loss: 0.0240 - accuracy: 0.9920\n"
          ]
        },
        {
          "output_type": "execute_result",
          "data": {
            "text/plain": [
              "<keras.callbacks.History at 0x7f6c8e7be710>"
            ]
          },
          "metadata": {},
          "execution_count": 55
        }
      ]
    },
    {
      "cell_type": "code",
      "source": [
        "model.evaluate(x_test,y_test)\n"
      ],
      "metadata": {
        "colab": {
          "base_uri": "https://localhost:8080/"
        },
        "id": "gweSb5fQMvQQ",
        "outputId": "564751cd-2d51-46db-bfba-3fefdb1f5880"
      },
      "execution_count": 56,
      "outputs": [
        {
          "output_type": "stream",
          "name": "stdout",
          "text": [
            "313/313 [==============================] - 9s 27ms/step - loss: 0.0320 - accuracy: 0.9918\n"
          ]
        },
        {
          "output_type": "execute_result",
          "data": {
            "text/plain": [
              "[0.031973641365766525, 0.9918000102043152]"
            ]
          },
          "metadata": {},
          "execution_count": 56
        }
      ]
    },
    {
      "cell_type": "code",
      "source": [
        "y_predict = model.predict(x_test)\n",
        "y_predict_labels = [np.argmax(i) for i in y_predict]"
      ],
      "metadata": {
        "id": "c35hGNYQM5Se"
      },
      "execution_count": 59,
      "outputs": []
    },
    {
      "cell_type": "code",
      "source": [
        "def plot_sample(index, x, y):\n",
        "    plt.figure(figsize = (15,2))\n",
        "    plt.imshow(x[index], cmap='gray')\n",
        "    plt.xlabel(str(y[index]))\n",
        "    plt.show()"
      ],
      "metadata": {
        "id": "tGFVAFuUQiIp"
      },
      "execution_count": 61,
      "outputs": []
    },
    {
      "cell_type": "code",
      "source": [
        "for i in np.random.randint(0,10000,10):\n",
        "    plot_sample(i,tf.squeeze(x_test),y_predict_labels)"
      ],
      "metadata": {
        "colab": {
          "base_uri": "https://localhost:8080/",
          "height": 1000
        },
        "id": "yGNcGNnuPbUn",
        "outputId": "fad39173-2968-448c-ee56-5515c85cbd75"
      },
      "execution_count": 63,
      "outputs": [
        {
          "output_type": "display_data",
          "data": {
            "image/png": "[encoded data removed]",
            "text/plain": [
              "<Figure size 1080x144 with 1 Axes>"
            ]
          },
          "metadata": {
            "needs_background": "light"
          }
        },
        {
          "output_type": "display_data",
          "data": {
            "image/png": "[encoded data removed]",
            "text/plain": [
              "<Figure size 1080x144 with 1 Axes>"
            ]
          },
          "metadata": {
            "needs_background": "light"
          }
        },
        {
          "output_type": "display_data",
          "data": {
            "image/png": "[encoded data removed]",
            "text/plain": [
              "<Figure size 1080x144 with 1 Axes>"
            ]
          },
          "metadata": {
            "needs_background": "light"
          }
        },
        {
          "output_type": "display_data",
          "data": {
            "image/png": "[encoded data removed]",
            "text/plain": [
              "<Figure size 1080x144 with 1 Axes>"
            ]
          },
          "metadata": {
            "needs_background": "light"
          }
        },
        {
          "output_type": "display_data",
          "data": {
            "image/png": "[encoded data removed]",
            "text/plain": [
              "<Figure size 1080x144 with 1 Axes>"
            ]
          },
          "metadata": {
            "needs_background": "light"
          }
        },
        {
          "output_type": "display_data",
          "data": {
            "image/png": "[encoded data removed]",
            "text/plain": [
              "<Figure size 1080x144 with 1 Axes>"
            ]
          },
          "metadata": {
            "needs_background": "light"
          }
        },
        {
          "output_type": "display_data",
          "data": {
            "image/png": "[encoded data removed]",
            "text/plain": [
              "<Figure size 1080x144 with 1 Axes>"
            ]
          },
          "metadata": {
            "needs_background": "light"
          }
        },
        {
          "output_type": "display_data",
          "data": {
            "image/png": "[encoded data removed]",
            "text/plain": [
              "<Figure size 1080x144 with 1 Axes>"
            ]
          },
          "metadata": {
            "needs_background": "light"
          }
        },
        {
          "output_type": "display_data",
          "data": {
            "image/png": "[encoded data removed]",
            "text/plain": [
              "<Figure size 1080x144 with 1 Axes>"
            ]
          },
          "metadata": {
            "needs_background": "light"
          }
        },
        {
          "output_type": "display_data",
          "data": {
            "image/png": "[encoded data removed]",
            "text/plain": [
              "<Figure size 1080x144 with 1 Axes>"
            ]
          },
          "metadata": {
            "needs_background": "light"
          }
        }
      ]
    }
  ]
}